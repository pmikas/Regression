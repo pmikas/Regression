{
 "cells": [
  {
   "cell_type": "code",
   "execution_count": 1,
   "metadata": {},
   "outputs": [],
   "source": [
    "import numpy as np # linear algebra\n",
    "import pandas as pd # data processing, CSV file I/O (e.g. pd.read_csv)\n",
    "import matplotlib.pyplot as plt #\n",
    "import seaborn as sns\n",
    "from sklearn import linear_model"
   ]
  },
  {
   "cell_type": "code",
   "execution_count": 35,
   "metadata": {},
   "outputs": [],
   "source": [
    "#   Compute the hypothesis function\n",
    "def hypothesis(theta,X):\n",
    "    h = np.matmul(X,theta)\n",
    "    return h\n",
    "\n",
    "#   Compute the cost by Gradient Descent\n",
    "def costGradientDescent(X, Y, alpha, num_it):\n",
    "    m,n = np.shape(X)\n",
    "    theta = np.zeros(n)\n",
    "    J = np.zeros(num_it)\n",
    "    h = hypothesis(theta,X)\n",
    "    xt = np.transpose(X)\n",
    "\n",
    "    for i in range(0,num_it):\n",
    "        theta = theta - alpha/m*np.matmul(xt,h-Y)    \n",
    "        h = hypothesis(theta,X)\n",
    "        J[i] = 1/(2*m)*np.matmul((h-Y),(h-Y))\n",
    "    return J\n",
    "\n",
    "#   Compute the cost by Normal Equation\n",
    "def costNormalEquation(X, Y):\n",
    "    m,n = np.shape(X)\n",
    "    J = 0\n",
    "    theta = NormalEquation(X,Y)\n",
    "    h = hypothesis(theta,X)\n",
    "    J = 1/(2*m)*np.matmul((h-Y),(h-Y))\n",
    "    return J\n",
    "\n",
    "def NormalEquation(X,Y):\n",
    "    m,n = np.shape(X)\n",
    "    theta = np.zeros(n)  \n",
    "    xt = np.transpose(X)\n",
    "    theta = np.matmul(np.matmul(np.linalg.inv(np.matmul(xt,X)),xt),Y)\n",
    "    return theta\n",
    "\n",
    "#   Compute the feature scaling\n",
    "def FeatureScaling(feat):\n",
    "    new_feat = feat/np.max(feat)\n",
    "    return new_feat\n",
    "\n",
    "#   Compute the mean normalization\n",
    "def MeanNormalization(feat):\n",
    "    mean_feat = np.mean(feat)\n",
    "    new_feat = (feat-mean_feat)/np.std(feat)\n",
    "    return new_feat"
   ]
  },
  {
   "cell_type": "code",
   "execution_count": 23,
   "metadata": {},
   "outputs": [],
   "source": [
    "data = pd.read_csv(\"coursera.csv\")"
   ]
  },
  {
   "cell_type": "code",
   "execution_count": 24,
   "metadata": {},
   "outputs": [
    {
     "data": {
      "text/html": [
       "<div>\n",
       "<style scoped>\n",
       "    .dataframe tbody tr th:only-of-type {\n",
       "        vertical-align: middle;\n",
       "    }\n",
       "\n",
       "    .dataframe tbody tr th {\n",
       "        vertical-align: top;\n",
       "    }\n",
       "\n",
       "    .dataframe thead th {\n",
       "        text-align: right;\n",
       "    }\n",
       "</style>\n",
       "<table border=\"1\" class=\"dataframe\">\n",
       "  <thead>\n",
       "    <tr style=\"text-align: right;\">\n",
       "      <th></th>\n",
       "      <th>sizee</th>\n",
       "      <th>bedroom</th>\n",
       "      <th>price</th>\n",
       "    </tr>\n",
       "  </thead>\n",
       "  <tbody>\n",
       "    <tr>\n",
       "      <th>0</th>\n",
       "      <td>2104</td>\n",
       "      <td>3</td>\n",
       "      <td>399900</td>\n",
       "    </tr>\n",
       "    <tr>\n",
       "      <th>1</th>\n",
       "      <td>1600</td>\n",
       "      <td>3</td>\n",
       "      <td>329900</td>\n",
       "    </tr>\n",
       "    <tr>\n",
       "      <th>2</th>\n",
       "      <td>2400</td>\n",
       "      <td>3</td>\n",
       "      <td>369000</td>\n",
       "    </tr>\n",
       "    <tr>\n",
       "      <th>3</th>\n",
       "      <td>1416</td>\n",
       "      <td>2</td>\n",
       "      <td>232000</td>\n",
       "    </tr>\n",
       "    <tr>\n",
       "      <th>4</th>\n",
       "      <td>3000</td>\n",
       "      <td>4</td>\n",
       "      <td>539900</td>\n",
       "    </tr>\n",
       "  </tbody>\n",
       "</table>\n",
       "</div>"
      ],
      "text/plain": [
       "   sizee  bedroom   price\n",
       "0   2104        3  399900\n",
       "1   1600        3  329900\n",
       "2   2400        3  369000\n",
       "3   1416        2  232000\n",
       "4   3000        4  539900"
      ]
     },
     "execution_count": 24,
     "metadata": {},
     "output_type": "execute_result"
    }
   ],
   "source": [
    "data.head()"
   ]
  },
  {
   "cell_type": "code",
   "execution_count": 25,
   "metadata": {},
   "outputs": [],
   "source": [
    "Xm = data.drop(['price'],axis=1)\n",
    "Xm['a'] = 1\n",
    "Ym = data.price"
   ]
  },
  {
   "cell_type": "code",
   "execution_count": 6,
   "metadata": {
    "scrolled": true
   },
   "outputs": [
    {
     "name": "stdout",
     "output_type": "stream",
     "text": [
      "[  139.21067402 -8738.01911233 89597.9095428 ]\n",
      "2043280050.6028285\n"
     ]
    }
   ],
   "source": [
    "print(NormalEquation(Xm,Ym))\n",
    "JNE = costNormalEquation(Xm,Ym)                     # call the Normal Equation function\n",
    "print(JNE)"
   ]
  },
  {
   "cell_type": "code",
   "execution_count": 36,
   "metadata": {},
   "outputs": [
    {
     "name": "stdout",
     "output_type": "stream",
     "text": [
      "2061269629.2461307\n"
     ]
    },
    {
     "data": {
      "text/plain": [
       "[<matplotlib.lines.Line2D at 0x1dfd2d16ac8>]"
      ]
     },
     "execution_count": 36,
     "metadata": {},
     "output_type": "execute_result"
    },
    {
     "data": {
      "image/png": "[encoded data removed]",
      "text/plain": [
       "<Figure size 432x288 with 1 Axes>"
      ]
     },
     "metadata": {},
     "output_type": "display_data"
    }
   ],
   "source": [
    "alpha = 0.1\n",
    "num_it = 50\n",
    "Xm.sizee = MeanNormalization(Xm.sizee)\n",
    "Xm.bedroom = MeanNormalization(Xm.bedroom)\n",
    "JGD = costGradientDescent(Xm, Ym, alpha, num_it)\n",
    "print(np.min(JGD))\n",
    "plt.plot(range(0,num_it),JGD)"
   ]
  },
  {
   "cell_type": "code",
   "execution_count": null,
   "metadata": {},
   "outputs": [],
   "source": []
  }
 ],
 "metadata": {
  "kernelspec": {
   "display_name": "Python 3",
   "language": "python",
   "name": "python3"
  },
  "language_info": {
   "codemirror_mode": {
    "name": "ipython",
    "version": 3
   },
   "file_extension": ".py",
   "mimetype": "text/x-python",
   "name": "python",
   "nbconvert_exporter": "python",
   "pygments_lexer": "ipython3",
   "version": "3.6.5"
  }
 },
 "nbformat": 4,
 "nbformat_minor": 2
}
